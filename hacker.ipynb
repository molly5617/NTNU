{
 "cells": [
  {
   "cell_type": "code",
   "execution_count": null,
   "metadata": {},
   "outputs": [],
   "source": [
    "import requests\n",
    "from bs4 import BeautifulSoup\n",
    "import pandas as pd\n",
    "import csv\n",
    "\n",
    "# 目標 URL\n",
    "url = (\n",
    "    \"https://hunteq.com/fchinanewc/fchinanew?ID=9&SECU=1125552653&VIEWRECS=fchinanew:50\"\n",
    ")\n",
    "headers = {\n",
    "    \"User-Agent\": \"Mozilla/5.0 (Windows NT 10.0; Win64; x64) AppleWebKit/537.36 (KHTML, like Gecko) Chrome/114.0.0.0 Safari/537.36\"\n",
    "}\n",
    "response = requests.get(url, headers=headers)\n",
    "if response.status_code == 200:\n",
    "    soup = BeautifulSoup(response.content, \"html.parser\")\n",
    "    table = soup.find(\"table\")\n",
    "    if table:\n",
    "        rows = table.find_all(\"tr\")\n",
    "        data = []\n",
    "        for row in rows:\n",
    "            cols = row.find_all(\"td\")\n",
    "\n",
    "            if not cols:\n",
    "                continue\n",
    "\n",
    "            cols_text = [col.text.strip() for col in cols]\n",
    "\n",
    "            link = None\n",
    "            if cols[0].find(\"a\"):\n",
    "                link = cols[0].find(\"a\")[\"href\"]\n",
    "                link = requests.compat.urljoin(url, link)\n",
    "            cols_text.append(link)\n",
    "\n",
    "            data.append(cols_text)"
   ]
  },
  {
   "cell_type": "code",
   "execution_count": null,
   "metadata": {},
   "outputs": [],
   "source": [
    "data = data[12::]"
   ]
  },
  {
   "cell_type": "code",
   "execution_count": 25,
   "metadata": {},
   "outputs": [
    {
     "data": {
      "text/plain": [
       "[]"
      ]
     },
     "execution_count": 25,
     "metadata": {},
     "output_type": "execute_result"
    }
   ],
   "source": [
    "data"
   ]
  },
  {
   "cell_type": "code",
   "execution_count": null,
   "metadata": {},
   "outputs": [
    {
     "name": "stdout",
     "output_type": "stream",
     "text": [
      "資料已成功存入 data.csv\n"
     ]
    }
   ],
   "source": [
    "csv_file = \"data.csv\"\n",
    "\n",
    "\n",
    "with open(csv_file, mode=\"w\", encoding=\"utf-8\", newline=\"\") as file:\n",
    "    writer = csv.writer(file)\n",
    "\n",
    "    writer.writerow([\"序號\", \"篇名\", \"主題\", \"作者\", \"出版年\", \"卷別\", \"期別\", \"鏈結\"])\n",
    "\n",
    "    writer.writerows(data)\n",
    "\n",
    "print(f\"資料已成功存入 {csv_file}\")"
   ]
  }
 ],
 "metadata": {
  "kernelspec": {
   "display_name": "Python 3",
   "language": "python",
   "name": "python3"
  },
  "language_info": {
   "codemirror_mode": {
    "name": "ipython",
    "version": 3
   },
   "file_extension": ".py",
   "mimetype": "text/x-python",
   "name": "python",
   "nbconvert_exporter": "python",
   "pygments_lexer": "ipython3",
   "version": "3.12.6"
  }
 },
 "nbformat": 4,
 "nbformat_minor": 2
}
