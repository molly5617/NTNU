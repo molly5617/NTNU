{
 "cells": [
  {
   "cell_type": "markdown",
   "metadata": {},
   "source": [
    "### 10-1\n"
   ]
  },
  {
   "cell_type": "code",
   "execution_count": 1,
   "metadata": {},
   "outputs": [
    {
     "name": "stdout",
     "output_type": "stream",
     "text": [
      "12\n"
     ]
    }
   ],
   "source": [
    "print(13 - 1)"
   ]
  },
  {
   "cell_type": "code",
   "execution_count": 2,
   "metadata": {},
   "outputs": [
    {
     "data": {
      "text/plain": [
       "'nice'"
      ]
     },
     "execution_count": 2,
     "metadata": {},
     "output_type": "execute_result"
    }
   ],
   "source": [
    "\"nice\""
   ]
  },
  {
   "cell_type": "code",
   "execution_count": 3,
   "metadata": {},
   "outputs": [
    {
     "name": "stdout",
     "output_type": "stream",
     "text": [
      "Nice is the new cool\n"
     ]
    }
   ],
   "source": [
    "a = \"nice\"\n",
    "b = \" is the new cool\"\n",
    "print(a.capitalize() + b)"
   ]
  },
  {
   "cell_type": "markdown",
   "metadata": {},
   "source": [
    "### 10-2\n"
   ]
  },
  {
   "cell_type": "code",
   "execution_count": 4,
   "metadata": {},
   "outputs": [
    {
     "name": "stdout",
     "output_type": "stream",
     "text": [
      "100 pickles and 100 cookies.\n",
      "I choose the COOKIES!\n",
      "100 pickles and 100 cookies.\n",
      "I choose the COOKIES!\n",
      "100 pickles and 100 cookies.\n",
      "I choose the COOKIES!\n"
     ]
    }
   ],
   "source": [
    "sweet = \"cookies\"\n",
    "savory = \"pickles\"\n",
    "num = 100\n",
    "print(f\"{num} {savory} and {num} {sweet}.\")\n",
    "print(f\"I choose the {sweet.upper()}!\")\n",
    "\n",
    "print(\"%d %s and %d %s.\" % (num, savory, num, sweet))\n",
    "print(\"I choose the %s!\" % sweet.upper())\n",
    "\n",
    "print(str(num) + \" \" + savory + \" and \" + str(num) + \" \" + sweet + \".\")\n",
    "print(\"I choose the \" + sweet.upper() + \"!\")"
   ]
  },
  {
   "cell_type": "markdown",
   "metadata": {},
   "source": [
    "### 10-3\n"
   ]
  },
  {
   "cell_type": "code",
   "execution_count": 5,
   "metadata": {},
   "outputs": [
    {
     "name": "stdout",
     "output_type": "stream",
     "text": [
      "<hello>\n",
      "<hello>\n",
      "<hello>\n"
     ]
    }
   ],
   "source": [
    "song = input(\"What your favorite song\")\n",
    "for i in range(3):\n",
    "    print(\"<\" + song + \">\")"
   ]
  },
  {
   "cell_type": "code",
   "execution_count": 6,
   "metadata": {},
   "outputs": [
    {
     "name": "stdout",
     "output_type": "stream",
     "text": [
      "Bill\n",
      "Gates\n"
     ]
    }
   ],
   "source": [
    "name = input(\"Enter your name\")\n",
    "first_name, last_name = name.split()\n",
    "print(first_name)\n",
    "print(last_name)"
   ]
  }
 ],
 "metadata": {
  "kernelspec": {
   "display_name": "Python 3",
   "language": "python",
   "name": "python3"
  },
  "language_info": {
   "codemirror_mode": {
    "name": "ipython",
    "version": 3
   },
   "file_extension": ".py",
   "mimetype": "text/x-python",
   "name": "python",
   "nbconvert_exporter": "python",
   "pygments_lexer": "ipython3",
   "version": "3.12.6"
  }
 },
 "nbformat": 4,
 "nbformat_minor": 2
}
