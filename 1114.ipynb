{
 "cells": [
  {
   "cell_type": "markdown",
   "metadata": {},
   "source": []
  },
  {
   "cell_type": "markdown",
   "metadata": {},
   "source": [
    "$$Q1編寫一個程式，要求輸入兩個數字，將這兩個數字分別儲存於變數 b 和變數 e，並顯示 e^b 的運算結果。$$\n"
   ]
  },
  {
   "cell_type": "code",
   "execution_count": null,
   "metadata": {},
   "outputs": [
    {
     "name": "stdout",
     "output_type": "stream",
     "text": [
      "1\n"
     ]
    }
   ],
   "source": [
    "b = int(input())\n",
    "e = int(input())\n",
    "print(b**e)"
   ]
  },
  {
   "cell_type": "markdown",
   "metadata": {},
   "source": [
    "$$Q2編寫程式輸入姓名和年齡，並使用變數分別儲存這兩項資訊。計算 25 年後的年紀為何？例如，輸入姓名為 Bob，年齡為 10，則程式可顯示：\\text{Hi } \\text{Bob! In 25 years you will be 35!}$$\n"
   ]
  },
  {
   "cell_type": "code",
   "execution_count": null,
   "metadata": {},
   "outputs": [
    {
     "name": "stdout",
     "output_type": "stream",
     "text": [
      "Hi Bob! In 25 years you will be 35\n"
     ]
    }
   ],
   "source": [
    "name = input()\n",
    "age = int(input())\n",
    "print(f\"Hi %s! In 25 years you will be %d!\" % (name, age + 25))"
   ]
  },
  {
   "cell_type": "markdown",
   "metadata": {},
   "source": [
    "$$Q3分別輸入下列3種不同數值，各會顯示何種結果$$\n",
    "$$輸入num值5$$\n",
    "$$輸入num值10$$\n",
    "$$輸入num值100$$\n"
   ]
  },
  {
   "cell_type": "code",
   "execution_count": null,
   "metadata": {},
   "outputs": [],
   "source": [
    "num = int(input(\"Enter a number: \"))\n",
    "if num < 10:\n",
    "    print(\"num is less than 10\")\n",
    "print(\"Finished\")"
   ]
  },
  {
   "cell_type": "markdown",
   "metadata": {},
   "source": [
    "$$Q4$$\n"
   ]
  },
  {
   "cell_type": "code",
   "execution_count": null,
   "metadata": {},
   "outputs": [],
   "source": [
    "word = input(\"Tell me a word: \")\n",
    "print(word)\n",
    "if \" \" in word:\n",
    "    print(\"You did not follow directions!\")"
   ]
  },
  {
   "cell_type": "code",
   "execution_count": null,
   "metadata": {},
   "outputs": [],
   "source": [
    "num1 = int(input(\"One number: \"))\n",
    "num2 = int(input(\"Another number: \"))\n",
    "print(num1 + num2)\n",
    "if num1 + num2 < 0:\n",
    "    print(\"Wow, negative sum!\")"
   ]
  },
  {
   "cell_type": "markdown",
   "metadata": {},
   "source": [
    "$$Q5$$\n"
   ]
  },
  {
   "cell_type": "markdown",
   "metadata": {},
   "source": [
    "nest code\n"
   ]
  },
  {
   "cell_type": "code",
   "execution_count": null,
   "metadata": {},
   "outputs": [],
   "source": [
    "num_a = int(input(\"Number? \"))\n",
    "num_b = int(input(\"Number? \"))\n",
    "if num_a < 0:\n",
    "    print(\"num_a is negative\")\n",
    "    if num_b < 0:\n",
    "        print(\"num_b is negative\")\n",
    "print(\"Finished\")"
   ]
  },
  {
   "cell_type": "markdown",
   "metadata": {},
   "source": [
    "Unnested Code\n"
   ]
  },
  {
   "cell_type": "code",
   "execution_count": null,
   "metadata": {},
   "outputs": [],
   "source": [
    "num_a = int(input(\"Number? \"))\n",
    "num_b = int(input(\"Number? \"))\n",
    "if num_a < 0:\n",
    "    print(\"num_a: is negative\")\n",
    "if num_b < 0:\n",
    "    print(\"num_b is negative\")\n",
    "print(\"Finished\")"
   ]
  }
 ],
 "metadata": {
  "kernelspec": {
   "display_name": "Python 3",
   "language": "python",
   "name": "python3"
  },
  "language_info": {
   "codemirror_mode": {
    "name": "ipython",
    "version": 3
   },
   "file_extension": ".py",
   "mimetype": "text/x-python",
   "name": "python",
   "nbconvert_exporter": "python",
   "pygments_lexer": "ipython3",
   "version": "3.12.6"
  }
 },
 "nbformat": 4,
 "nbformat_minor": 2
}
